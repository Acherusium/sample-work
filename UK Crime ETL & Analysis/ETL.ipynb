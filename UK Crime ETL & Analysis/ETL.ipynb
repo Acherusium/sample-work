{
 "cells": [
  {
   "cell_type": "code",
   "execution_count": 1,
   "id": "c8f7cc02-4ada-4aa5-b63d-818244a65f50",
   "metadata": {},
   "outputs": [],
   "source": [
    "# Import requests library\n",
    "import requests\n",
    "import pandas as pd\n",
    "import sqlite3"
   ]
  },
  {
   "cell_type": "markdown",
   "id": "24de5d58-5aa7-4c6c-899b-559b27c024ad",
   "metadata": {},
   "source": [
    "***Get Available Crimes***"
   ]
  },
  {
   "cell_type": "markdown",
   "id": "905c0a6d-5811-40df-a9cf-97434c4eb343",
   "metadata": {},
   "source": [
    "*Parse Crimes Class*"
   ]
  },
  {
   "cell_type": "code",
   "execution_count": 8,
   "id": "e7fc147f-d5a8-4933-a4a5-abc331e7025b",
   "metadata": {},
   "outputs": [],
   "source": [
    "class extract_transform_load_data:\n",
    "    \n",
    "    def get_forces(self):\n",
    "        # Get all available forces\n",
    "        forces = requests.get('https://data.police.uk/api/forces')\n",
    "        # Check if the request was successful (status code 200)\n",
    "        if forces.status_code == 200:\n",
    "            # Parse the JSON response\n",
    "            forces_data = forces.json()\n",
    "        \n",
    "            # Extract 'id' from each item in the response and save it into a list\n",
    "            force_id_list = [force.get('id') for force in forces_data]\n",
    "            return force_id_list\n",
    "        else:\n",
    "            return None\n",
    "\n",
    "    \n",
    "    def get_crimes(self, year, month, force_id):\n",
    "        crimes = requests.get(f'https://data.police.uk/api/crimes-no-location?category=all-crime&force={force_id}&date={year}-{month}')\n",
    "        if crimes.status_code == 404:\n",
    "            print(f'Error: No data for force_id {force_id}')\n",
    "            return pd.DataFrame()  # Return an empty DataFrame\n",
    "        else:\n",
    "            crimes_data = crimes.json()\n",
    "            # Extract specific information from the JSON data\n",
    "            relevant_info = []\n",
    "\n",
    "            for crime in crimes_data:\n",
    "                # Check if 'category' is present and not null\n",
    "                if crime.get('outcome_status', {}):\n",
    "                    relevant_info.append({\n",
    "                        'id': crime.get('id'),\n",
    "                        'city': force_id,\n",
    "                        'category': crime.get('category'),\n",
    "                        'status': crime.get('outcome_status', {}).get('category', ''),\n",
    "                        'date': crime.get('outcome_status', {}).get('date', ''),\n",
    "                        # Add more fields as needed\n",
    "                    })\n",
    "\n",
    "            # Create a DataFrame from the extracted information\n",
    "            df = pd.DataFrame(relevant_info)\n",
    "            return df\n",
    "    \n",
    "    def process_data(self, year, month):\n",
    "        forces_list = self.get_forces()\n",
    "        all_dfs = []  # To store individual DataFrames\n",
    "\n",
    "        # Iterate through force_ids and fetch data for each force\n",
    "        for force_id in forces_list:\n",
    "            result_df = self.get_crimes(year, month, force_id)\n",
    "\n",
    "            if result_df is not None:\n",
    "                # Add the DataFrame to the list\n",
    "                all_dfs.append(result_df)\n",
    "\n",
    "        # Concatenate all DataFrames into a single DataFrame\n",
    "        final_df = pd.concat(all_dfs, ignore_index=True)\n",
    "        return final_df\n",
    "\n",
    "    \n",
    "    def load_repo(self, year, month):\n",
    "        # Connect to a database (or create it if it doesn't exist)\n",
    "        connection = sqlite3.connect(f'crime_data_{year}_{month}.db')\n",
    "\n",
    "        # Create a cursor\n",
    "        cursor = connection.cursor()\n",
    "\n",
    "        # Execute a SQL query to create a table\n",
    "        cursor.execute('''\n",
    "            CREATE TABLE IF NOT EXISTS crimes (\n",
    "                id INTEGER PRIMARY KEY,\n",
    "                city TEXT,\n",
    "                category TEXT,\n",
    "                status TEXT,\n",
    "                date DATE\n",
    "            )\n",
    "        ''')\n",
    "\n",
    "        # Process data to get the DataFrame\n",
    "        aggregated_data = self.process_data(year, month)\n",
    "\n",
    "        # Check if the DataFrame is not empty before saving it to the database\n",
    "        if not aggregated_data.empty:\n",
    "            # Save the DataFrame to the SQLite database\n",
    "            aggregated_data.to_sql('crimes', connection, if_exists='replace', index=False)\n",
    "\n",
    "            # Commit the changes and close the connection\n",
    "            connection.commit()\n",
    "            connection.close()\n",
    "            print(\"Data loaded to the database successfully.\")\n",
    "        else:\n",
    "            print(\"No data to load to the database.\")\n",
    "        \n",
    "        "
   ]
  },
  {
   "cell_type": "code",
   "execution_count": 10,
   "id": "771bd668-1b27-40e4-bdd0-21b260205fb8",
   "metadata": {},
   "outputs": [
    {
     "name": "stdout",
     "output_type": "stream",
     "text": [
      "Data loaded to the database successfully.\n"
     ]
    }
   ],
   "source": [
    "etl_session = extract_transform_load_data()\n",
    "etl_session.load_repo(2023, 8)"
   ]
  }
 ],
 "metadata": {
  "kernelspec": {
   "display_name": "Python 3 (ipykernel)",
   "language": "python",
   "name": "python3"
  },
  "language_info": {
   "codemirror_mode": {
    "name": "ipython",
    "version": 3
   },
   "file_extension": ".py",
   "mimetype": "text/x-python",
   "name": "python",
   "nbconvert_exporter": "python",
   "pygments_lexer": "ipython3",
   "version": "3.9.7"
  }
 },
 "nbformat": 4,
 "nbformat_minor": 5
}
